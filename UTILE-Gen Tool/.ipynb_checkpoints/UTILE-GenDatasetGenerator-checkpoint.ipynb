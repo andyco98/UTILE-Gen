{
 "cells": [
  {
   "cell_type": "code",
   "execution_count": null,
   "id": "700522fe",
   "metadata": {},
   "outputs": [],
   "source": [
    "from DatasetGeneratorFunctions import *"
   ]
  },
  {
   "cell_type": "markdown",
   "id": "b8f23e83",
   "metadata": {},
   "source": [
    "**Different Functions:**\n",
    "In this project we developed a series of functions to help the researches to have an easy access to the UTILE-Gen tools\n",
    "In this tutorial the following capabilites are implemented:\n",
    "\n",
    " - Dataset_Gen: Function to run the generator based on one image/mask pair\n",
    " \n",
    " - Dataset_Gen_Folder: Function to run the generator for a whole folder with the subdivision images and masks\n",
    " \n",
    " - Multiple_Folder_Expansion: Function to run the generator for multiple folders using the same subdivision of images and masks\n",
    " \n",
    "We also provide a series of functions to facilitate the input of data into the Generator by transforming the images and masks into the right formats\n",
    "\n",
    " - ConvertFolderRightFormat: Function to convert all the iamges into 8-bit greyscale tifs and the masks into 16-bit greyscale tifs for direct intput into the model\n",
    " \n",
    "Remember that images and masks should have the same name for tracking purposes"
   ]
  },
  {
   "cell_type": "markdown",
   "id": "470b24c0",
   "metadata": {},
   "source": [
    "**DatasetGen function**\n",
    "The function has several arguments to fine tune the obtained dataset. The list of the arguments are the following:\n",
    "\n",
    "Generator of image/mask pair \n",
    "    max number of particles 250\n",
    "\n",
    "    #Arguments:\n",
    "    #1: Dataset size\n",
    "    #2: Lower limit of particles per image\n",
    "    #3: Upper limit of particles per image\n",
    "    #4: Absolute path of the input mask\n",
    "    #5: Absolute Path of the input image\n",
    "    #6: Individual project name\n",
    "    #7: Boolean for non-overlapping systems\n",
    "    #8: Boolean for using only the real patches (and not the synthetic ones with the generated textures)(faster) \n",
    "    #9: Boolean for using only real backgrounds\n",
    "    #10: Maximal percentage of salt-pepper noise added to the image (random between 0 and the given value)\n",
    "    #11: Maximal percentage of Gaussian Blur added to the image(random between 0 and the given value)\n",
    "    #12: Minimal scaling factor of the individual objects\n",
    "    #13: Maximal scaling factor of the individual objects\n",
    "    \n"
   ]
  },
  {
   "cell_type": "code",
   "execution_count": null,
   "id": "ad035227",
   "metadata": {},
   "outputs": [],
   "source": [
    "#Dataset_Gen_Folder Function\n",
    "#It is helpful when you want to synthetically expand a series of images. The images are exapnded under the same conditions using the same amount of particles per image as the original one.\n",
    "#All generated images and masks are then stored under one single folder with the images and masks subdivision.\n",
    "\n",
    "#You need to set the folder path where your images are stored under images and masks folders. The rest of the arguments are the same than the DatasetGen.\n",
    "\n",
    "folder_path = r\"./path/to/my/folder\"\n",
    "\n",
    "Dataset_Gen_Folder(1, 0, 0, folder_path, True, True, True, 0.2, 2, 0.3, 2)\n"
   ]
  },
  {
   "cell_type": "code",
   "execution_count": null,
   "id": "c8a994e4",
   "metadata": {},
   "outputs": [],
   "source": [
    "#An example of how this wolud work is the following:\n",
    "\n",
    "projectname = 'MyEMimage'\n",
    "input_image_path = r'C:/absolute/path/to/testimage1.tif'\n",
    "input_mask_path = r'C:/absolute/path/to/testmask1.tif'\n",
    "\n",
    "Dataset_Gen(1, 10, 10, input_mask_path, input_image_path, projectname, True, True, False, 0.2, 2, 0.3, 3)\n"
   ]
  },
  {
   "cell_type": "code",
   "execution_count": null,
   "id": "4765804a",
   "metadata": {},
   "outputs": [],
   "source": [
    "#Multiple_Folder_Expansion Function\n",
    "#For bigger projects where we have several folders of different topics with the corresponding images and masks and we want to expand\n",
    "#them and store in one common folder\n",
    "\n",
    "multiple_folder_path = \"./path/to/my/folder_with_folders\"\n",
    "\n",
    "Multiple_Folder_Expansion(10, 0, 0, multiple_folder_path, True, True, True, 0.2, 2, 0.3, 2)"
   ]
  },
  {
   "cell_type": "code",
   "execution_count": null,
   "id": "0c22416b",
   "metadata": {},
   "outputs": [],
   "source": [
    "#ConvertFolderRightFormat Function\n",
    "#Function to convert all the iamges into 8-bit greyscale tifs and the masks into 16-bit greyscale tifs for direct intput into the model\n",
    "\n",
    "folder_path = r\"./path/to/my/folder\"\n",
    "\n",
    "ConvertFolderRightFormat(folder_path)"
   ]
  }
 ],
 "metadata": {
  "kernelspec": {
   "display_name": "Python 3 (ipykernel)",
   "language": "python",
   "name": "python3"
  },
  "language_info": {
   "codemirror_mode": {
    "name": "ipython",
    "version": 3
   },
   "file_extension": ".py",
   "mimetype": "text/x-python",
   "name": "python",
   "nbconvert_exporter": "python",
   "pygments_lexer": "ipython3",
   "version": "3.10.0"
  }
 },
 "nbformat": 4,
 "nbformat_minor": 5
}
